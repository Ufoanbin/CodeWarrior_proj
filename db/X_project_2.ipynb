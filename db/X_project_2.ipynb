{
 "cells": [
  {
   "cell_type": "code",
   "execution_count": 62,
   "id": "1ae17b23-fc3f-4755-bd8c-7621fba4bbd0",
   "metadata": {},
   "outputs": [
    {
     "name": "stdin",
     "output_type": "stream",
     "text": [
      "Enter password:  ········\n"
     ]
    },
    {
     "name": "stdout",
     "output_type": "stream",
     "text": [
      "Successfully connect to OracleDB\n"
     ]
    }
   ],
   "source": [
    "import getpass\n",
    "import oracledb\n",
    "\n",
    "pw = getpass.getpass(\"Enter password: \")\n",
    "connection = oracledb.connect(\n",
    "    user=\"c##aaa\",\n",
    "    password=pw,\n",
    "    dsn=\"localhost/xe\")\n",
    "\n",
    "print(\"Successfully connect to OracleDB\")\n",
    "cursor = connection.cursor()\n",
    "\n",
    "\n",
    "# CREATE TABLE\n",
    "# cursor.execute(\n",
    "#     \"\"\"\n",
    "#     begin\n",
    "#         drop table \"ceotbl\" if exists \"ceotbl\";\n",
    "#         end if;\n",
    "#     end;\"\"\")    # 테이블 생성 전에 먼저 드랍을 해서 혹여나 이름이 겹치는 테이블을 드랍해줍니다\n",
    "\n",
    "\n",
    "cursor.execute(\n",
    "    \"\"\"\n",
    "    create table ceotbl(\n",
    "        ceoid char(20) NOT NULL,\n",
    "        ceoname char(20) NOT NULL,\n",
    "        company char(20) NOT NULL,\n",
    "        CONSTRAINT ceouser_pk primary key(ceoid))\"\"\")    # ceo 유저 테이블을 따로 생성해줍니다\n",
    "\n",
    "\n",
    "cursor.execute(\n",
    "    \"\"\"\n",
    "    create table crawlingtbl(\n",
    "        ceoid CHAR(20) NOT NULL,\n",
    "        twttime DATE NULL,\n",
    "        retweet INT NOT NULL,\n",
    "        twtlike INT NOT NULL,\n",
    "        twttext VARCHAR(180) NOT NULL,\n",
    "        CONSTRAINT fk_crawling foreign KEY(ceoid) references ceotbl(ceoid))\"\"\")    # 위에서 생성한 ceo 유저 테이블에서 아이디를 참조해옵니다\n",
    "\n",
    "\n",
    "connection.commit()"
   ]
  },
  {
   "cell_type": "code",
   "execution_count": null,
   "id": "4f7fd81c-51ed-4430-a713-60aac0e34ef8",
   "metadata": {},
   "outputs": [],
   "source": []
  }
 ],
 "metadata": {
  "kernelspec": {
   "display_name": "Python 3 (ipykernel)",
   "language": "python",
   "name": "python3"
  },
  "language_info": {
   "codemirror_mode": {
    "name": "ipython",
    "version": 3
   },
   "file_extension": ".py",
   "mimetype": "text/x-python",
   "name": "python",
   "nbconvert_exporter": "python",
   "pygments_lexer": "ipython3",
   "version": "3.11.7"
  }
 },
 "nbformat": 4,
 "nbformat_minor": 5
}
